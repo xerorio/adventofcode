{
 "cells": [
  {
   "cell_type": "code",
   "execution_count": null,
   "metadata": {},
   "outputs": [
    {
     "name": "stdout",
     "output_type": "stream",
     "text": [
      "ANSWER: 2406\n"
     ]
    }
   ],
   "source": [
    "# PART 1\n",
    "\n",
    "def read_file():\n",
    "    with open('04.txt') as f:\n",
    "        return f.read().splitlines()\n",
    "    \n",
    "puzzle_input = read_file()\n",
    "\n",
    "num_columns = len(puzzle_input)\n",
    "num_rows = len(puzzle_input[0])\n",
    "\n",
    "possible_search_directions = []\n",
    "\n",
    "# possible_search_directions = [\n",
    "#     (-1, -1), (-1, 0), (-1, 1),\n",
    "#     (0, -1),           (0, 1),\n",
    "#     (1, -1),  (1, 0),  (1, 1)\n",
    "# ]\n",
    "\n",
    "for x in range(-1, 2):\n",
    "    for y in range(-1, 2):\n",
    "        if x == 0 and y == 0:\n",
    "            continue\n",
    "        possible_search_directions.append((x, y))\n",
    "\n",
    "def xmas(i, j, d):\n",
    "    x, y = d\n",
    "    for k, letter in enumerate('XMAS'):\n",
    "        ii = i + k * x\n",
    "        jj = j + k * y\n",
    "        if not (0 <= ii < num_columns and 0 <= jj < num_rows):\n",
    "            return False\n",
    "        if puzzle_input[ii][jj] != letter:\n",
    "            return False\n",
    "    return True\n",
    "\n",
    "number_of_xmas_found = 0\n",
    "\n",
    "for i in range(num_columns):\n",
    "    for j in range(num_rows):\n",
    "        for d in possible_search_directions:\n",
    "            number_of_xmas_found += xmas(i, j, d)\n",
    "\n",
    "print(f'ANSWER: {number_of_xmas_found}')"
   ]
  },
  {
   "cell_type": "code",
   "execution_count": null,
   "metadata": {},
   "outputs": [
    {
     "name": "stdout",
     "output_type": "stream",
     "text": [
      "ANSWER: 1807\n"
     ]
    }
   ],
   "source": [
    "# PART 2\n",
    "\n",
    "def read_file():\n",
    "    with open('04.txt') as f:\n",
    "        return f.read().splitlines()\n",
    "\n",
    "puzzle_input = read_file()\n",
    "\n",
    "num_columns = len(puzzle_input)\n",
    "num_rows = len(puzzle_input[0])\n",
    "\n",
    "def xmas(i, j):\n",
    "    if not (1 <= i < num_columns - 1 and 1 <= j < num_rows - 1):\n",
    "        return False\n",
    "    if puzzle_input[i][j] != 'A':\n",
    "        return False\n",
    "    \n",
    "    diag_1 = f'{puzzle_input[i-1][j-1]}{puzzle_input[i+1][j+1]}'\n",
    "    diag_2 = f'{puzzle_input[i-1][j+1]}{puzzle_input[i+1][j-1]}'\n",
    "\n",
    "    return diag_1 in ['MS', 'SM'] and diag_2 in ['MS', 'SM']\n",
    "\n",
    "number_of_x_mas_found = 0\n",
    "\n",
    "for i in range(num_columns):\n",
    "    for j in range(num_rows):\n",
    "        number_of_x_mas_found += xmas(i, j)\n",
    "\n",
    "print(f'ANSWER: {number_of_x_mas_found}')\n"
   ]
  }
 ],
 "metadata": {
  "kernelspec": {
   "display_name": "Python 3",
   "language": "python",
   "name": "python3"
  },
  "language_info": {
   "codemirror_mode": {
    "name": "ipython",
    "version": 3
   },
   "file_extension": ".py",
   "mimetype": "text/x-python",
   "name": "python",
   "nbconvert_exporter": "python",
   "pygments_lexer": "ipython3",
   "version": "3.12.1"
  }
 },
 "nbformat": 4,
 "nbformat_minor": 2
}
