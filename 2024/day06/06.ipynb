{
 "cells": [
  {
   "cell_type": "code",
   "execution_count": null,
   "metadata": {},
   "outputs": [
    {
     "name": "stdout",
     "output_type": "stream",
     "text": [
      "ANSWER: 5239\n"
     ]
    }
   ],
   "source": [
    "# PART 1\n",
    "\n",
    "def read_file():\n",
    "    with open('06.txt') as f:\n",
    "        return f.read().splitlines()\n",
    "\n",
    "grid = read_file()\n",
    "\n",
    "n = len(grid)\n",
    "m = len(grid[0])\n",
    "guard_location = (0, 0)\n",
    "\n",
    "found_guard = False\n",
    "for i in range(n):\n",
    "    for j in range(m):\n",
    "        if grid[i][j] == '^':\n",
    "            found_guard = True\n",
    "            guard_location = (i, j)\n",
    "            break\n",
    "    if found_guard:\n",
    "        break\n",
    "\n",
    "dir = 0\n",
    "dd = [[-1, 0], [0, 1], [1, 0], [0, -1]]\n",
    "\n",
    "seen_locations = set()\n",
    "while True:\n",
    "    seen_locations.add(guard_location)\n",
    "\n",
    "    next_i = guard_location[0] + dd[dir][0]\n",
    "    next_j = guard_location[1] + dd[dir][1]\n",
    "\n",
    "    if not (0 <= next_i < n and 0 <= next_j < m):\n",
    "        break\n",
    "\n",
    "    if grid[next_i][next_j] == '#':\n",
    "        dir = (dir + 1) % 4\n",
    "    else:\n",
    "        guard_location = (next_i, next_j)\n",
    "\n",
    "print(f'ANSWER: {len(seen_locations)}')"
   ]
  },
  {
   "cell_type": "code",
   "execution_count": 9,
   "metadata": {},
   "outputs": [
    {
     "name": "stderr",
     "output_type": "stream",
     "text": [
      "100%|██████████| 5239/5239 [00:17<00:00, 303.17it/s]"
     ]
    },
    {
     "name": "stdout",
     "output_type": "stream",
     "text": [
      "ANSWER: 1753\n"
     ]
    },
    {
     "name": "stderr",
     "output_type": "stream",
     "text": [
      "\n"
     ]
    }
   ],
   "source": [
    "# PART 2\n",
    "\n",
    "from tqdm import tqdm\n",
    "\n",
    "def read_file():\n",
    "    with open('06.txt') as f:\n",
    "        return [list(line) for line in f.read().splitlines()]\n",
    "\n",
    "grid = read_file()\n",
    "\n",
    "n = len(grid)\n",
    "m = len(grid[0])\n",
    "original_guard_location = (0, 0)\n",
    "\n",
    "found_guard = False\n",
    "for i in range(n):\n",
    "    for j in range(m):\n",
    "        if grid[i][j] == '^':\n",
    "            found_guard = True\n",
    "            original_guard_location = (i, j)\n",
    "            break\n",
    "    if found_guard:\n",
    "        break\n",
    "\n",
    "ii, jj = original_guard_location\n",
    "dir = 0\n",
    "dd = [[-1, 0], [0, 1], [1, 0], [0, -1]]\n",
    "original_seen_locations = set()\n",
    "\n",
    "while True:\n",
    "    original_seen_locations.add(original_guard_location)\n",
    "\n",
    "    next_i = original_guard_location[0] + dd[dir][0]\n",
    "    next_j = original_guard_location[1] + dd[dir][1]\n",
    "\n",
    "    if not (0 <= next_i < n and 0 <= next_j < m):\n",
    "        break\n",
    "\n",
    "    if grid[next_i][next_j] == '#':\n",
    "        dir = (dir + 1) % 4\n",
    "    else:\n",
    "        original_guard_location = (next_i, next_j)\n",
    "\n",
    "def will_loop(oi, oj):\n",
    "    if grid[oi][oj] == '#':\n",
    "        return False\n",
    "    \n",
    "    grid[oi][oj] = '#'\n",
    "    guard_location = (ii, jj)\n",
    "\n",
    "    dir = 0\n",
    "    seen = set()\n",
    "    while True:\n",
    "        if (guard_location, dir) in seen:\n",
    "            grid[oi][oj] = '.'\n",
    "            return True\n",
    "        seen.add((guard_location, dir))\n",
    "\n",
    "        next_i = guard_location[0] + dd[dir][0]\n",
    "        next_j = guard_location[1] + dd[dir][1]\n",
    "\n",
    "        if not (0 <= next_i < n and 0 <= next_j < m):\n",
    "            grid[oi][oj] = '.'\n",
    "            return False\n",
    "\n",
    "        if grid[next_i][next_j] == '#':\n",
    "            dir = (dir + 1) % 4\n",
    "        else:\n",
    "            guard_location = (next_i, next_j)\n",
    "\n",
    "total = 0\n",
    "for oi, oj in tqdm(original_seen_locations):\n",
    "    loop = will_loop(oi, oj)\n",
    "    total += loop\n",
    "\n",
    "print(f'ANSWER: {total}')"
   ]
  }
 ],
 "metadata": {
  "kernelspec": {
   "display_name": "Python 3",
   "language": "python",
   "name": "python3"
  },
  "language_info": {
   "codemirror_mode": {
    "name": "ipython",
    "version": 3
   },
   "file_extension": ".py",
   "mimetype": "text/x-python",
   "name": "python",
   "nbconvert_exporter": "python",
   "pygments_lexer": "ipython3",
   "version": "3.12.1"
  }
 },
 "nbformat": 4,
 "nbformat_minor": 2
}
