{
 "cells": [
  {
   "cell_type": "code",
   "execution_count": 21,
   "metadata": {},
   "outputs": [
    {
     "name": "stdout",
     "output_type": "stream",
     "text": [
      "ANSWER: 32026\n"
     ]
    }
   ],
   "source": [
    "# PART 1\n",
    "\n",
    "import pyperclip\n",
    "\n",
    "def print_and_copy(x):\n",
    "    pyperclip.copy(x)\n",
    "    return(x)\n",
    "\n",
    "import re\n",
    "\n",
    "def read_file():\n",
    "    with open('13.txt') as f:\n",
    "        return f.read().split('\\n\\n')\n",
    "\n",
    "machines = read_file()\n",
    "\n",
    "total_tokens = 0\n",
    "for machine in machines:\n",
    "    ax, ay, bx, by, px, py = map(int, re.findall(r'\\d+', machine))\n",
    "    if ax * by == bx * ay:\n",
    "        continue\n",
    "\n",
    "    a_button_presses = ((px * by) - (py * bx)) / ((ax * by) - (ay * bx))\n",
    "\n",
    "    if not a_button_presses.is_integer():\n",
    "        continue\n",
    "    \n",
    "    a_button_presses = int(a_button_presses)\n",
    "\n",
    "    b_button_presses = int((px - (ax * a_button_presses)) / bx)\n",
    "\n",
    "    if not (a_button_presses <= 100 and b_button_presses <= 100):\n",
    "        continue\n",
    "\n",
    "    tokens = int((a_button_presses * 3) + b_button_presses)\n",
    "\n",
    "    total_tokens += tokens\n",
    "\n",
    "print(f'ANSWER: {print_and_copy(total_tokens)}')"
   ]
  },
  {
   "cell_type": "code",
   "execution_count": 28,
   "metadata": {},
   "outputs": [
    {
     "name": "stdout",
     "output_type": "stream",
     "text": [
      "ANSWER: 89013607072065\n"
     ]
    }
   ],
   "source": [
    "# PART 2\n",
    "\n",
    "import pyperclip\n",
    "\n",
    "def print_and_copy(x):\n",
    "    pyperclip.copy(x)\n",
    "    return(x)\n",
    "\n",
    "import re\n",
    "\n",
    "def read_file():\n",
    "    with open('13.txt') as f:\n",
    "        return f.read().split('\\n\\n')\n",
    "\n",
    "machines = read_file()\n",
    "\n",
    "total_tokens = 0\n",
    "for machine in machines:\n",
    "    ax, ay, bx, by, px, py = map(int, re.findall(r'\\d+', machine))\n",
    "    px = px + 10000000000000\n",
    "    py = py + 10000000000000\n",
    "\n",
    "    if ax * by == bx * ay:\n",
    "        continue\n",
    "\n",
    "    a_button_presses = ((px * by) - (py * bx)) / ((ax * by) - (ay * bx))\n",
    "\n",
    "    b_button_presses = (px - (ax * a_button_presses)) / bx\n",
    "\n",
    "    if not (a_button_presses.is_integer() and b_button_presses.is_integer()):\n",
    "        continue\n",
    "\n",
    "    tokens = int((a_button_presses * 3) + b_button_presses)\n",
    "\n",
    "    total_tokens += tokens\n",
    "\n",
    "print(f'ANSWER: {print_and_copy(total_tokens)}')"
   ]
  }
 ],
 "metadata": {
  "kernelspec": {
   "display_name": "Python 3",
   "language": "python",
   "name": "python3"
  },
  "language_info": {
   "codemirror_mode": {
    "name": "ipython",
    "version": 3
   },
   "file_extension": ".py",
   "mimetype": "text/x-python",
   "name": "python",
   "nbconvert_exporter": "python",
   "pygments_lexer": "ipython3",
   "version": "3.13.1"
  }
 },
 "nbformat": 4,
 "nbformat_minor": 2
}
