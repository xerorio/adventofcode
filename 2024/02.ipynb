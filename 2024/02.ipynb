{
 "cells": [
  {
   "cell_type": "code",
   "execution_count": 20,
   "metadata": {},
   "outputs": [
    {
     "name": "stdout",
     "output_type": "stream",
     "text": [
      "ANSWER: 442\n"
     ]
    }
   ],
   "source": [
    "# PART 1\n",
    "\n",
    "def read_file():\n",
    "    with open('02.txt') as f:\n",
    "        input_list = [list(map(lambda x: int(x), line.split(' '))) for line in f.read().splitlines()]\n",
    "        return input_list\n",
    "\n",
    "def check_report_is_safe(report):\n",
    "    report_type = 'increasing'\n",
    "    if report[0] > report[1]:\n",
    "        report_type = 'decreasing'\n",
    "    \n",
    "    if report_type == 'increasing':\n",
    "        for i in range(1, len(report)):\n",
    "            difference_with_previous_number = report[i] - report[i-1]\n",
    "\n",
    "            if difference_with_previous_number == 0:\n",
    "                # difference is 0\n",
    "                return False\n",
    "\n",
    "            if abs(difference_with_previous_number) > 3:\n",
    "                # difference is more than 3\n",
    "                return False\n",
    "\n",
    "            if difference_with_previous_number < 0:\n",
    "                # increasing report, therefore difference should be positive\n",
    "                return False\n",
    "    else:\n",
    "        for i in range(1, len(report)):\n",
    "            difference_with_previous_number = report[i] - report[i-1]\n",
    "\n",
    "            if difference_with_previous_number == 0:\n",
    "                # difference is 0\n",
    "                return False\n",
    "\n",
    "            if abs(difference_with_previous_number) > 3:\n",
    "                # difference is more than 3\n",
    "                return False\n",
    "\n",
    "            if difference_with_previous_number > 0:\n",
    "                # decreasing report, therefore difference should be negative\n",
    "                return False\n",
    "    return True\n",
    "\n",
    "# print(invalid_reports)\n",
    "\n",
    "reports = read_file()\n",
    "num_of_safe_reports = 0\n",
    "invalid_reports = []\n",
    "\n",
    "for rep in reports:\n",
    "    if check_report_is_safe(rep):\n",
    "        num_of_safe_reports += 1\n",
    "    else:\n",
    "        invalid_reports.append(rep)\n",
    "\n",
    "print(f'ANSWER: {num_of_safe_reports}')"
   ]
  },
  {
   "cell_type": "code",
   "execution_count": 21,
   "metadata": {},
   "outputs": [
    {
     "name": "stdout",
     "output_type": "stream",
     "text": [
      "ANSWER: 493\n"
     ]
    }
   ],
   "source": [
    "# PART 2\n",
    "\n",
    "def read_file():\n",
    "    with open('02.txt') as f:\n",
    "        input_list = [list(map(int, line.split(' '))) for line in f.read().splitlines()]\n",
    "        return input_list\n",
    "\n",
    "def is_safe(report):\n",
    "    sorted_report = sorted(report)\n",
    "    if report == sorted_report or report == sorted_report[::-1]:\n",
    "        for i in range(1, len(report)):\n",
    "            if abs(report[i] - report[i - 1]) > 3 or report[i] == report[i - 1]:\n",
    "                return False\n",
    "        return True\n",
    "    return False\n",
    "\n",
    "def is_safe_removing_1(report):\n",
    "    sorted_report = sorted(report)\n",
    "    if report == sorted_report or report == sorted_report[::-1]:\n",
    "        for i in range(1, len(report)):\n",
    "            if abs(report[i] - report[i - 1]) > 3 or report[i] == report[i - 1]:\n",
    "                report_removed_i = report[:i] + report[i + 1 :]\n",
    "                report_removed_i_1 = report[: i - 1] + report[i:]\n",
    "                return is_safe(report_removed_i) or is_safe(report_removed_i_1)\n",
    "        return True\n",
    "    else:\n",
    "        for i in range(0, len(report)):\n",
    "            report_removed_i = report[:i] + report[i + 1 :]\n",
    "            if is_safe(report_removed_i):\n",
    "                return True\n",
    "    return False\n",
    "\n",
    "reports = read_file()\n",
    "\n",
    "num_of_safe_reports = sum([is_safe_removing_1(report) for report in reports])\n",
    "\n",
    "print(f'ANSWER: {num_of_safe_reports}')"
   ]
  }
 ],
 "metadata": {
  "kernelspec": {
   "display_name": "Python 3",
   "language": "python",
   "name": "python3"
  },
  "language_info": {
   "codemirror_mode": {
    "name": "ipython",
    "version": 3
   },
   "file_extension": ".py",
   "mimetype": "text/x-python",
   "name": "python",
   "nbconvert_exporter": "python",
   "pygments_lexer": "ipython3",
   "version": "3.12.1"
  }
 },
 "nbformat": 4,
 "nbformat_minor": 2
}
