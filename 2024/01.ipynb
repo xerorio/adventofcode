{
 "cells": [
  {
   "cell_type": "code",
   "execution_count": 28,
   "metadata": {},
   "outputs": [
    {
     "name": "stdout",
     "output_type": "stream",
     "text": [
      "ANSWER: 1222801\n"
     ]
    }
   ],
   "source": [
    "# PART 1\n",
    "\n",
    "def read_file():\n",
    "    with open('01.txt') as f:\n",
    "        input_list = [tuple(map(lambda x: int(x), line.split(','))) for line in f.read().splitlines()]\n",
    "        transposed_list = list(zip(*input_list))\n",
    "        return list(zip(*[sorted(transposed_list[0]), sorted(transposed_list[1])]))\n",
    "\n",
    "sorted_list = read_file()\n",
    "\n",
    "total_distance = 0\n",
    "\n",
    "for i, j in sorted_list:\n",
    "    total_distance += abs(i - j)\n",
    "\n",
    "print(f'ANSWER: {total_distance}')"
   ]
  },
  {
   "cell_type": "code",
   "execution_count": 29,
   "metadata": {},
   "outputs": [
    {
     "name": "stdout",
     "output_type": "stream",
     "text": [
      "ANSWER: 22545250\n"
     ]
    }
   ],
   "source": [
    "# PART 2\n",
    "\n",
    "from collections import Counter\n",
    "\n",
    "def read_file():\n",
    "    with open('01.txt') as f:\n",
    "        input_list = [tuple(map(lambda x: int(x), line.split(','))) for line in f.read().splitlines()]\n",
    "        return list(zip(*input_list))\n",
    "\n",
    "left_list, right_list = read_file()\n",
    "\n",
    "counter = Counter(right_list)\n",
    "\n",
    "similarity_score = 0\n",
    "\n",
    "for n in left_list:\n",
    "    if n in counter.keys():\n",
    "        similarity_score += n * counter[n]\n",
    "\n",
    "print(f'ANSWER: {similarity_score}')"
   ]
  }
 ],
 "metadata": {
  "kernelspec": {
   "display_name": "Python 3",
   "language": "python",
   "name": "python3"
  },
  "language_info": {
   "codemirror_mode": {
    "name": "ipython",
    "version": 3
   },
   "file_extension": ".py",
   "mimetype": "text/x-python",
   "name": "python",
   "nbconvert_exporter": "python",
   "pygments_lexer": "ipython3",
   "version": "3.12.1"
  }
 },
 "nbformat": 4,
 "nbformat_minor": 2
}
