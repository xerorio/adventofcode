{
 "cells": [
  {
   "cell_type": "code",
   "execution_count": null,
   "metadata": {},
   "outputs": [
    {
     "name": "stdout",
     "output_type": "stream",
     "text": [
      "ANSWER: 6349606724455\n"
     ]
    }
   ],
   "source": [
    "# PART 1\n",
    "\n",
    "def read_file():\n",
    "    with open('09.txt') as f:\n",
    "        return f.read().strip()\n",
    "\n",
    "diskmap = read_file()\n",
    "\n",
    "def make_filesystem(diskmap):\n",
    "    blocks = []\n",
    "    \n",
    "    is_file = True\n",
    "    id = 0\n",
    "\n",
    "    for n in diskmap:\n",
    "        n = int(n)\n",
    "        if is_file:\n",
    "            blocks += [id] * n\n",
    "            id += 1\n",
    "            is_file = False\n",
    "        else:\n",
    "            blocks += [None] * n\n",
    "            is_file = True\n",
    "    \n",
    "    return blocks\n",
    "\n",
    "def move_files(files):\n",
    "    first_free = 0\n",
    "    while files[first_free] != None:\n",
    "        first_free += 1\n",
    "    \n",
    "    i = len(files) - 1\n",
    "    while files[i] is None:\n",
    "        i -= 1\n",
    "\n",
    "    while i > first_free:\n",
    "        files[first_free] = files[i]\n",
    "        files[i] = None\n",
    "        while files[i] == None:\n",
    "            i -= 1\n",
    "        while files[first_free] != None:\n",
    "            first_free += 1\n",
    "    \n",
    "    return files\n",
    "\n",
    "def calc_checksum(files):\n",
    "    ans = 0\n",
    "    for i, n in enumerate(files):\n",
    "        if n != None:\n",
    "            ans += (i * n)\n",
    "    return ans\n",
    "\n",
    "filesystem = make_filesystem(diskmap)\n",
    "filesystem_moved = move_files(filesystem)\n",
    "checksum = calc_checksum(filesystem_moved)\n",
    "\n",
    "print(f'ANSWER: {checksum}')"
   ]
  },
  {
   "cell_type": "code",
   "execution_count": 34,
   "metadata": {},
   "outputs": [
    {
     "name": "stderr",
     "output_type": "stream",
     "text": [
      "100%|██████████| 10000/10000 [00:27<00:00, 363.73it/s]"
     ]
    },
    {
     "name": "stdout",
     "output_type": "stream",
     "text": [
      "ANSWER: 6376648986651\n"
     ]
    },
    {
     "name": "stderr",
     "output_type": "stream",
     "text": [
      "\n"
     ]
    }
   ],
   "source": [
    "# PART 2\n",
    "\n",
    "from tqdm import tqdm\n",
    "\n",
    "def read_file():\n",
    "    with open('09.txt') as f:\n",
    "        return f.read().strip()\n",
    "\n",
    "diskmap = read_file()\n",
    "\n",
    "size = [0] * len(diskmap)\n",
    "loc = [0] * len(diskmap)\n",
    "\n",
    "def make_filesystem(diskmap):\n",
    "    global size, loc\n",
    "\n",
    "    blocks = []\n",
    "    \n",
    "    is_file = True\n",
    "    id = 0\n",
    "\n",
    "    for n in diskmap:\n",
    "        n = int(n)\n",
    "        if is_file:\n",
    "            size[id] = n\n",
    "            loc[id] = len(blocks)\n",
    "\n",
    "            blocks += [id] * n\n",
    "            id += 1\n",
    "            is_file = False\n",
    "        else:\n",
    "            blocks += [None] * n\n",
    "            is_file = True\n",
    "    \n",
    "    return blocks\n",
    "\n",
    "filesystem = make_filesystem(diskmap)\n",
    "\n",
    "def move_files(files):\n",
    "    big = 0\n",
    "    while size[big] > 0:\n",
    "        big += 1\n",
    "    big -= 1\n",
    "\n",
    "    for to_move in tqdm(range(big, -1, -1)):\n",
    "        free_space = 0\n",
    "        first_free = 0\n",
    "        while first_free < loc[to_move] and free_space < size[to_move]:\n",
    "            first_free = first_free + free_space\n",
    "            free_space = 0\n",
    "            while files[first_free] != None:\n",
    "                first_free += 1\n",
    "            while first_free + free_space < len(files) and files[first_free + free_space] == None:\n",
    "                free_space += 1\n",
    "        \n",
    "        if first_free >= loc[to_move]:\n",
    "            to_move -= 1\n",
    "            continue\n",
    "            \n",
    "        for idx in range(first_free, first_free + size[to_move]):\n",
    "            files[idx] = to_move\n",
    "        for idx in range(loc[to_move], loc[to_move] + size[to_move]):\n",
    "            files[idx] = None\n",
    "        \n",
    "        to_move -= 1\n",
    "    \n",
    "    return files\n",
    "\n",
    "def calc_checksum(files):\n",
    "    ans = 0\n",
    "    for i, n in enumerate(files):\n",
    "        if n != None:\n",
    "            ans += (i * n)\n",
    "    return ans\n",
    "\n",
    "filesystem_moved = move_files(filesystem)\n",
    "checksum = calc_checksum(filesystem_moved)\n",
    "\n",
    "print(f'ANSWER: {checksum}')"
   ]
  }
 ],
 "metadata": {
  "kernelspec": {
   "display_name": "Python 3",
   "language": "python",
   "name": "python3"
  },
  "language_info": {
   "codemirror_mode": {
    "name": "ipython",
    "version": 3
   },
   "file_extension": ".py",
   "mimetype": "text/x-python",
   "name": "python",
   "nbconvert_exporter": "python",
   "pygments_lexer": "ipython3",
   "version": "3.12.1"
  }
 },
 "nbformat": 4,
 "nbformat_minor": 2
}
