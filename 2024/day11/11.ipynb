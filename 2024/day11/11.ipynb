{
 "cells": [
  {
   "cell_type": "code",
   "execution_count": 16,
   "metadata": {},
   "outputs": [
    {
     "name": "stdout",
     "output_type": "stream",
     "text": [
      "ANSWER: 189547\n"
     ]
    }
   ],
   "source": [
    "# PART 1\n",
    "\n",
    "def read_file():\n",
    "    with open('11.txt') as f:\n",
    "        return list(map(int, f.read().split(' ')))\n",
    "    \n",
    "stones = read_file()\n",
    "\n",
    "def blink(s):\n",
    "    if s == 0:\n",
    "        return [1]\n",
    "    if len(str(s)) % 2 == 0: # even number of digits\n",
    "        stone_str = str(s)\n",
    "        left = stone_str[:len(stone_str)//2]\n",
    "        right = stone_str[len(stone_str)//2:]\n",
    "        return [int(left), int(right)]\n",
    "    return [s * 2024]\n",
    "\n",
    "times_to_blink = 25\n",
    "for _ in range(times_to_blink):\n",
    "    stones_after_blinking = []\n",
    "    for stone in stones:\n",
    "        stones_after_blinking.extend(blink(stone))\n",
    "    stones = stones_after_blinking\n",
    "\n",
    "print(f'ANSWER: {len(stones)}')"
   ]
  },
  {
   "cell_type": "code",
   "execution_count": 26,
   "metadata": {},
   "outputs": [
    {
     "name": "stdout",
     "output_type": "stream",
     "text": [
      "ANSWER: 224577979481346\n"
     ]
    }
   ],
   "source": [
    "# PART 2\n",
    "\n",
    "from functools import cache\n",
    "\n",
    "def read_file():\n",
    "    with open('11.txt') as f:\n",
    "        return list(map(int, f.read().split(' ')))\n",
    "    \n",
    "stones = read_file()\n",
    "\n",
    "@cache\n",
    "def count(stone, steps):\n",
    "    if steps == 0:\n",
    "        return 1\n",
    "    if stone == 0:\n",
    "        return count(1, steps - 1)\n",
    "    string = str(stone)\n",
    "    length = len(string)\n",
    "    if length % 2 == 0:\n",
    "        return count(int(string[length//2:]), steps - 1) + count(int(string[:length//2]), steps - 1)\n",
    "    return count(stone * 2024, steps - 1)\n",
    "\n",
    "print(f'ANSWER: {sum(count(s, 75) for s in stones)}')"
   ]
  }
 ],
 "metadata": {
  "kernelspec": {
   "display_name": "Python 3",
   "language": "python",
   "name": "python3"
  },
  "language_info": {
   "codemirror_mode": {
    "name": "ipython",
    "version": 3
   },
   "file_extension": ".py",
   "mimetype": "text/x-python",
   "name": "python",
   "nbconvert_exporter": "python",
   "pygments_lexer": "ipython3",
   "version": "3.13.0"
  }
 },
 "nbformat": 4,
 "nbformat_minor": 2
}
