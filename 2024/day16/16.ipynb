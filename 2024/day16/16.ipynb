{
 "cells": [
  {
   "cell_type": "code",
   "execution_count": 1,
   "metadata": {},
   "outputs": [
    {
     "name": "stdout",
     "output_type": "stream",
     "text": [
      "(13, 1)\n",
      "(1, 13)\n",
      "ANSWER: 0\n"
     ]
    }
   ],
   "source": [
    "# PART 1\n",
    "\n",
    "import pyperclip\n",
    "\n",
    "def print_and_copy(x):\n",
    "    pyperclip.copy(x)\n",
    "    return(x)\n",
    "\n",
    "def read_file():\n",
    "    with open('16.txt') as f:\n",
    "        return [list(line) for line in f.read().splitlines()]\n",
    "\n",
    "grid = read_file()\n",
    "n = len(grid)\n",
    "\n",
    "start_x = start_y = 0\n",
    "end_x = end_y = 0\n",
    "\n",
    "for i in range(n):\n",
    "    for j in range(n):\n",
    "        if grid[i][j] == 'S':\n",
    "            start_x, start_y = i, j\n",
    "        if grid[i][j] == 'E':\n",
    "            end_x, end_y = i, j\n",
    "\n",
    "print((start_x, start_y))\n",
    "print((end_x, end_y))\n",
    "\n",
    "ans = 0\n",
    "\n",
    "print(f'ANSWER: {print_and_copy(ans)}')"
   ]
  }
 ],
 "metadata": {
  "kernelspec": {
   "display_name": "Python 3",
   "language": "python",
   "name": "python3"
  },
  "language_info": {
   "codemirror_mode": {
    "name": "ipython",
    "version": 3
   },
   "file_extension": ".py",
   "mimetype": "text/x-python",
   "name": "python",
   "nbconvert_exporter": "python",
   "pygments_lexer": "ipython3",
   "version": "3.13.1"
  }
 },
 "nbformat": 4,
 "nbformat_minor": 2
}
