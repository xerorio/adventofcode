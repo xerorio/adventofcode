{
 "cells": [
  {
   "cell_type": "code",
   "execution_count": 8,
   "metadata": {},
   "outputs": [
    {
     "name": "stdout",
     "output_type": "stream",
     "text": [
      "ANSWER: 82460\n"
     ]
    }
   ],
   "source": [
    "# PART 1\n",
    "\n",
    "import pyperclip\n",
    "\n",
    "def print_and_copy(x):\n",
    "    pyperclip.copy(x)\n",
    "    return(x)\n",
    "\n",
    "import heapq\n",
    "\n",
    "def read_file():\n",
    "    with open('16.txt') as f:\n",
    "        return [list(line) for line in f.read().splitlines()]\n",
    "\n",
    "grid = read_file()\n",
    "\n",
    "def reindeer_maze(grid):\n",
    "    directions = [(-1, 0), (0, 1), (1, 0), (0, -1)]\n",
    "    direction_names = ['N', 'E', 'S', 'W']\n",
    "    \n",
    "    # Parse the grid to find start and end positions\n",
    "    start = None\n",
    "    end = None\n",
    "    n = len(grid)\n",
    "\n",
    "    for i in range(n):\n",
    "        for j in range(n):\n",
    "            if grid[i][j] == 'S':\n",
    "                start = (i, j)\n",
    "            if grid[i][j] == 'E':\n",
    "                end = (i, j)\n",
    "    \n",
    "    # Priority queue: (cost, x, y, direction facing)\n",
    "    pq = []\n",
    "    heapq.heappush(pq, (0, start[0], start[1], 1))\n",
    "    \n",
    "    # Distance map: (x, y, direction) -> minimum cost\n",
    "    dist = {}\n",
    "    for r in range(n):\n",
    "        for c in range(n):\n",
    "            for d in range(4):\n",
    "                dist[(r, c, d)] = float('inf')\n",
    "    \n",
    "    # Initialize distances\n",
    "    dist[(start[0], start[1], 1)] = 0\n",
    "    \n",
    "    # Modified Dijkstra's Algorithm\n",
    "    while pq:\n",
    "        cost, x, y, direction = heapq.heappop(pq)\n",
    "        \n",
    "        # If we reach the end, return the cost\n",
    "        if (x, y) == end:\n",
    "            return cost\n",
    "        \n",
    "        # If this state is already visited with a better cost, skip it\n",
    "        if cost > dist[(x, y, direction)]:\n",
    "            continue\n",
    "        \n",
    "        # Move forward in the current direction\n",
    "        dx, dy = directions[direction]\n",
    "        nx, ny = x + dx, y + dy\n",
    "        if 0 <= nx < n and 0 <= ny < n and grid[nx][ny] != '#':\n",
    "            forward_cost = cost + 1\n",
    "            if forward_cost < dist[(nx, ny, direction)]:\n",
    "                dist[(nx, ny, direction)] = forward_cost\n",
    "                heapq.heappush(pq, (forward_cost, nx, ny, direction))\n",
    "        \n",
    "        # Turn 90 degrees clockwise or counterclockwise\n",
    "        for turn in [-1, 1]:  # -1: counterclockwise, 1: clockwise\n",
    "            new_direction = (direction + turn) % 4\n",
    "            turn_cost = cost + 1000\n",
    "            if turn_cost < dist[(x, y, new_direction)]:\n",
    "                dist[(x, y, new_direction)] = turn_cost\n",
    "                heapq.heappush(pq, (turn_cost, x, y, new_direction))\n",
    "\n",
    "ans = reindeer_maze(grid)\n",
    "\n",
    "print(f'ANSWER: {print_and_copy(ans)}')"
   ]
  },
  {
   "cell_type": "code",
   "execution_count": null,
   "metadata": {},
   "outputs": [],
   "source": []
  }
 ],
 "metadata": {
  "kernelspec": {
   "display_name": "Python 3",
   "language": "python",
   "name": "python3"
  },
  "language_info": {
   "codemirror_mode": {
    "name": "ipython",
    "version": 3
   },
   "file_extension": ".py",
   "mimetype": "text/x-python",
   "name": "python",
   "nbconvert_exporter": "python",
   "pygments_lexer": "ipython3",
   "version": "3.13.1"
  }
 },
 "nbformat": 4,
 "nbformat_minor": 2
}
