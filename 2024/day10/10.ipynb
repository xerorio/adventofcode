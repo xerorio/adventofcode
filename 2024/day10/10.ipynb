{
 "cells": [
  {
   "cell_type": "code",
   "execution_count": null,
   "metadata": {},
   "outputs": [
    {
     "name": "stderr",
     "output_type": "stream",
     "text": [
      "100%|██████████| 57/57 [00:00<00:00, 9933.33it/s]"
     ]
    },
    {
     "name": "stdout",
     "output_type": "stream",
     "text": [
      "ANSWER: 782\n"
     ]
    },
    {
     "name": "stderr",
     "output_type": "stream",
     "text": [
      "\n"
     ]
    }
   ],
   "source": [
    "# PART 1\n",
    "\n",
    "def read_file():\n",
    "    with open('10.txt') as f:\n",
    "        return [[int(c) for c in line] for line in f.read().splitlines()]\n",
    "\n",
    "# 2D list of numbers representing the height of the ground in a given location\n",
    "map = read_file()\n",
    "\n",
    "n = len(map)\n",
    "\n",
    "def in_map(i, j):\n",
    "    return (0 <= i < n) and (0 <= j < n)\n",
    "\n",
    "# possible moves from a given location\n",
    "dd = [(-1, 0), (1, 0), (0, 1), (0, -1)]\n",
    "\n",
    "def get_score(i, j):\n",
    "    # Depth first search\n",
    "    if map[i][j] != 0:\n",
    "        return 0\n",
    "    \n",
    "    # track the score for this location\n",
    "    score = 0\n",
    "    \n",
    "    # this is a stack of the locations linked to initial location\n",
    "    stack = [(i, j)]\n",
    "\n",
    "    # store a set of the visited locations so not to visit the same\n",
    "    visited = set()\n",
    "\n",
    "    while len(stack) > 0: # iterate until stack is empty\n",
    "        # set the last location in the stack to the current location and pop it\n",
    "        curi, curj = stack.pop()\n",
    "\n",
    "        # ignore the location if it has already been visited\n",
    "        if (curi, curj) in visited:\n",
    "            continue\n",
    "\n",
    "        # get the height at that location\n",
    "        cur = map[curi][curj]\n",
    "\n",
    "        # now count this location as visited\n",
    "        visited.add((curi, curj))\n",
    "\n",
    "        # if the location value is 9, that means a path has been found!\n",
    "        # add one to the score for this locaiton and continue\n",
    "        if cur == 9:\n",
    "            score += 1\n",
    "            continue\n",
    "        \n",
    "        # check for each location next to the current one\n",
    "        for di, dj in dd:\n",
    "            ii, jj = curi + di, curj + dj\n",
    "\n",
    "            # check if the location is still within the map\n",
    "            if not in_map(ii, jj):\n",
    "                continue\n",
    "                \n",
    "            # get the height of the new location\n",
    "            height = map[ii][jj]\n",
    "\n",
    "            # if the height isn't exactly one more than the previous one\n",
    "            # continue to the next iteration\n",
    "            if height != cur + 1:\n",
    "                continue\n",
    "\n",
    "            # otherwise, add that new location to the stack for checking\n",
    "            stack.append((ii, jj))\n",
    "    \n",
    "    return score\n",
    "\n",
    "total_score = 0\n",
    "for x in range(n):\n",
    "    for y in range(n):\n",
    "        total_score += get_score(x, y)\n",
    "\n",
    "print(f'ANSWER: {total_score}')"
   ]
  },
  {
   "cell_type": "code",
   "execution_count": 4,
   "metadata": {},
   "outputs": [
    {
     "name": "stdout",
     "output_type": "stream",
     "text": [
      "ANSWER: 1694\n"
     ]
    }
   ],
   "source": [
    "# PART 2\n",
    "\n",
    "from functools import lru_cache\n",
    "\n",
    "def read_file():\n",
    "    with open('10.txt') as f:\n",
    "        return [[int(c) for c in line] for line in f.read().splitlines()]\n",
    "\n",
    "# 2D list of numbers representing the height of the ground\n",
    "# given by a location found with indices\n",
    "map = read_file()\n",
    "\n",
    "n = len(map)\n",
    "\n",
    "def in_map(i, j):\n",
    "    return (0 <= i < n) and (0 <= j < n)\n",
    "\n",
    "# possible moves from a given location\n",
    "dd = [(-1, 0), (1, 0), (0, 1), (0, -1)]\n",
    "\n",
    "# recursion instead of DFS\n",
    "@lru_cache(None)\n",
    "def rating(i, j):\n",
    "    # if the given location's height is 9\n",
    "    # end this recursion and return 1\n",
    "    if map[i][j] == 9:\n",
    "        return 1\n",
    "    \n",
    "    ans = 0\n",
    "    # check the surrounding heights\n",
    "    for di, dj in dd:\n",
    "        ii, jj = i + di, j + dj\n",
    "        # if the location is outside the map then ignore it\n",
    "        if not in_map(ii, jj):\n",
    "            continue\n",
    "\n",
    "        # if the new height is 1 more than the original height\n",
    "        # then recurse\n",
    "        if map[ii][jj] == map[i][j] + 1:\n",
    "            ans += rating(ii, jj)\n",
    "    \n",
    "    return ans\n",
    "\n",
    "total_score = 0\n",
    "for x in range(n):\n",
    "    for y in range(n):\n",
    "        if map[x][y] == 0:\n",
    "            total_score += rating(x, y)\n",
    "\n",
    "print(f'ANSWER: {total_score}')"
   ]
  }
 ],
 "metadata": {
  "kernelspec": {
   "display_name": "Python 3",
   "language": "python",
   "name": "python3"
  },
  "language_info": {
   "codemirror_mode": {
    "name": "ipython",
    "version": 3
   },
   "file_extension": ".py",
   "mimetype": "text/x-python",
   "name": "python",
   "nbconvert_exporter": "python",
   "pygments_lexer": "ipython3",
   "version": "3.13.0"
  }
 },
 "nbformat": 4,
 "nbformat_minor": 2
}
