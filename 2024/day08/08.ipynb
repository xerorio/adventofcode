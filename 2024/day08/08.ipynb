{
 "cells": [
  {
   "cell_type": "code",
   "execution_count": 2,
   "metadata": {},
   "outputs": [
    {
     "name": "stdout",
     "output_type": "stream",
     "text": [
      "ANSWER: 244\n"
     ]
    }
   ],
   "source": [
    "# PART 1\n",
    "\n",
    "from collections import defaultdict\n",
    "from itertools import combinations\n",
    "\n",
    "def read_file():\n",
    "    with open('08.txt') as f:\n",
    "        return f.read().splitlines()\n",
    "\n",
    "grid = read_file()\n",
    "n = len(grid)\n",
    "\n",
    "def in_bounds(x, y):\n",
    "    return 0 <= x < n and 0 <= y < n\n",
    "\n",
    "def get_antinodes(a, b):\n",
    "    ax, ay = a\n",
    "    bx, by = b\n",
    "\n",
    "    cx, cy = ax - (bx - ax), ay - (by - ay)\n",
    "    dx, dy = bx + (bx - ax), by + (by - ay)\n",
    "\n",
    "    if in_bounds(cx, cy):\n",
    "        yield (cx, cy)\n",
    "    if in_bounds(dx, dy):\n",
    "        yield (dx, dy)\n",
    "\n",
    "antennas = defaultdict(list)\n",
    "\n",
    "for i in range(n):\n",
    "    for j in range(n):\n",
    "        if grid[i][j] != '.':\n",
    "            antennas[grid[i][j]].append((i, j))\n",
    "\n",
    "antinodes = set()\n",
    "\n",
    "for freq in antennas:\n",
    "    locs = antennas[freq]\n",
    "    for a, b in combinations(locs, r=2):\n",
    "        for antinode in get_antinodes(a, b):\n",
    "            antinodes.add(antinode)\n",
    "\n",
    "print(f'ANSWER: {len(antinodes)}')"
   ]
  },
  {
   "cell_type": "code",
   "execution_count": 5,
   "metadata": {},
   "outputs": [
    {
     "name": "stdout",
     "output_type": "stream",
     "text": [
      "ANSWER: 912\n"
     ]
    }
   ],
   "source": [
    "# PART 2\n",
    "\n",
    "from collections import defaultdict\n",
    "from itertools import combinations\n",
    "\n",
    "def read_file():\n",
    "    with open('08.txt') as f:\n",
    "        return f.read().splitlines()\n",
    "\n",
    "grid = read_file()\n",
    "n = len(grid)\n",
    "\n",
    "def in_bounds(x, y):\n",
    "    return 0 <= x < n and 0 <= y < n\n",
    "\n",
    "def get_antinodes(a, b):\n",
    "    ax, ay = a\n",
    "    bx, by = b\n",
    "\n",
    "    dx, dy = bx - ax, by - ay\n",
    "\n",
    "    i = 0\n",
    "    while True:\n",
    "        next_antinode = (ax - dx * i, ay - dy * i)\n",
    "        if in_bounds(next_antinode[0], next_antinode[1]):\n",
    "            yield next_antinode\n",
    "        else:\n",
    "            break\n",
    "        i += 1\n",
    "    \n",
    "    i = 0\n",
    "    while True:\n",
    "        next_antinode = (bx + dx * i, by + dy * i)\n",
    "        if in_bounds(next_antinode[0], next_antinode[1]):\n",
    "            yield next_antinode\n",
    "        else:\n",
    "            break\n",
    "        i += 1\n",
    "\n",
    "antennas = defaultdict(list)\n",
    "\n",
    "for i in range(n):\n",
    "    for j in range(n):\n",
    "        if grid[i][j] != '.':\n",
    "            antennas[grid[i][j]].append((i, j))\n",
    "\n",
    "antinodes = set()\n",
    "\n",
    "for freq in antennas:\n",
    "    locs = antennas[freq]\n",
    "    for a, b in combinations(locs, r=2):\n",
    "        for antinode in get_antinodes(a, b):\n",
    "            antinodes.add(antinode)\n",
    "\n",
    "print(f'ANSWER: {len(antinodes)}')"
   ]
  }
 ],
 "metadata": {
  "kernelspec": {
   "display_name": "Python 3",
   "language": "python",
   "name": "python3"
  },
  "language_info": {
   "codemirror_mode": {
    "name": "ipython",
    "version": 3
   },
   "file_extension": ".py",
   "mimetype": "text/x-python",
   "name": "python",
   "nbconvert_exporter": "python",
   "pygments_lexer": "ipython3",
   "version": "3.12.1"
  }
 },
 "nbformat": 4,
 "nbformat_minor": 2
}
