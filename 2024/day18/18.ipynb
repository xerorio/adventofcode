{
 "cells": [
  {
   "cell_type": "code",
   "execution_count": null,
   "metadata": {},
   "outputs": [],
   "source": [
    "# PART 1\n",
    "\n",
    "import pyperclip\n",
    "\n",
    "def print_and_copy(x):\n",
    "    pyperclip.copy(x)\n",
    "    return(x)\n",
    "\n",
    "def read_file():\n",
    "    with open('00.txt') as f:\n",
    "        return f.read().splitlines()\n",
    "\n",
    "ans = 0\n",
    "\n",
    "print(f'ANSWER: {print_and_copy(ans)}')"
   ]
  }
 ],
 "metadata": {
  "kernelspec": {
   "display_name": "Python 3",
   "language": "python",
   "name": "python3"
  },
  "language_info": {
   "codemirror_mode": {
    "name": "ipython",
    "version": 3
   },
   "file_extension": ".py",
   "mimetype": "text/x-python",
   "name": "python",
   "nbconvert_exporter": "python",
   "pygments_lexer": "ipython3",
   "version": "3.13.1"
  }
 },
 "nbformat": 4,
 "nbformat_minor": 2
}
