{
 "cells": [
  {
   "cell_type": "code",
   "execution_count": 5,
   "metadata": {},
   "outputs": [
    {
     "name": "stdout",
     "output_type": "stream",
     "text": [
      "ANSWER: 374\n"
     ]
    }
   ],
   "source": [
    "# PART 1\n",
    "\n",
    "import pyperclip\n",
    "\n",
    "def copy_and_return(x):\n",
    "    pyperclip.copy(x)\n",
    "    return(x)\n",
    "\n",
    "from collections import deque\n",
    "\n",
    "def read_file():\n",
    "    with open('18.txt') as f:\n",
    "        return [list(map(int, line.split(','))) for line in f.read().splitlines()]\n",
    "\n",
    "size = 70\n",
    "n = 1024\n",
    "\n",
    "coords = read_file()\n",
    "grid = [[0] * (size + 1) for _ in range(size + 1)]\n",
    "\n",
    "for col, row in coords[:n]:\n",
    "    grid[row][col] = 1\n",
    "\n",
    "# basic breadth first search\n",
    "q = deque([(0, 0, 0)])\n",
    "seen = {(0, 0)}\n",
    "\n",
    "while q:\n",
    "    r, c, d = q.popleft()\n",
    "    for nr, nc in [(r + 1, c), (r - 1, c), (r, c + 1), (r, c - 1)]:\n",
    "        if nr < 0 or nc < 0 or nr > size or nc > size: continue\n",
    "        if grid[nr][nc] == 1: continue\n",
    "        if (nr, nc) in seen: continue\n",
    "        if nr == nc == size:\n",
    "            print(f'ANSWER: {copy_and_return(d + 1)}')\n",
    "            q.clear()\n",
    "            break\n",
    "        seen.add((nr, nc))\n",
    "        q.append((nr, nc, d + 1))"
   ]
  },
  {
   "cell_type": "code",
   "execution_count": 11,
   "metadata": {},
   "outputs": [
    {
     "name": "stdout",
     "output_type": "stream",
     "text": [
      "ANSWER: 30,12\n"
     ]
    }
   ],
   "source": [
    "# PART 2\n",
    "\n",
    "import pyperclip\n",
    "\n",
    "def copy_and_return(x):\n",
    "    pyperclip.copy(x)\n",
    "    return(x)\n",
    "\n",
    "from collections import deque\n",
    "\n",
    "def read_file():\n",
    "    with open('18.txt') as f:\n",
    "        return [list(map(int, line.split(','))) for line in f.read().splitlines()]\n",
    "\n",
    "size = 70\n",
    "\n",
    "coords = read_file()\n",
    "\n",
    "def connected(n):\n",
    "    grid = [[0] * (size + 1) for _ in range(size + 1)]\n",
    "\n",
    "    for col, row in coords[:n]:\n",
    "        grid[row][col] = 1\n",
    "\n",
    "    # basic breadth first search\n",
    "    q = deque([(0, 0)])\n",
    "    seen = {(0, 0)}\n",
    "\n",
    "    while q:\n",
    "        r, c = q.popleft()\n",
    "        for nr, nc in [(r + 1, c), (r - 1, c), (r, c + 1), (r, c - 1)]:\n",
    "            if nr < 0 or nc < 0 or nr > size or nc > size: continue\n",
    "            if grid[nr][nc] == 1: continue\n",
    "            if (nr, nc) in seen: continue\n",
    "            if nr == nc == size: return True\n",
    "            seen.add((nr, nc))\n",
    "            q.append((nr, nc))\n",
    "    \n",
    "    return False\n",
    "\n",
    "low_end = 0\n",
    "high_end = len(coords) - 1\n",
    "\n",
    "while low_end < high_end:\n",
    "    mid = (low_end + high_end) // 2\n",
    "    if connected(mid + 1):\n",
    "        low_end = mid + 1\n",
    "    else:\n",
    "        high_end = mid\n",
    "\n",
    "print(f'ANSWER: {copy_and_return(','.join(map(str, coords[low_end])))}')"
   ]
  }
 ],
 "metadata": {
  "kernelspec": {
   "display_name": "Python 3",
   "language": "python",
   "name": "python3"
  },
  "language_info": {
   "codemirror_mode": {
    "name": "ipython",
    "version": 3
   },
   "file_extension": ".py",
   "mimetype": "text/x-python",
   "name": "python",
   "nbconvert_exporter": "python",
   "pygments_lexer": "ipython3",
   "version": "3.13.1"
  }
 },
 "nbformat": 4,
 "nbformat_minor": 2
}
