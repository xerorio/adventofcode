{
 "cells": [
  {
   "cell_type": "code",
   "execution_count": 39,
   "metadata": {},
   "outputs": [
    {
     "name": "stdout",
     "output_type": "stream",
     "text": [
      "ANSWER: 374\n"
     ]
    }
   ],
   "source": [
    "# PART 1\n",
    "\n",
    "import pyperclip\n",
    "\n",
    "def copy_and_return(x):\n",
    "    pyperclip.copy(x)\n",
    "    return(x)\n",
    "\n",
    "from functools import cache\n",
    "\n",
    "def read_file():\n",
    "    with open('19.txt') as f:\n",
    "        return f.read().splitlines()\n",
    "\n",
    "lines = read_file()\n",
    "patterns = set(lines[0].split(', '))\n",
    "maxlen = max(map(len, patterns))\n",
    "designs = lines[2:]\n",
    "\n",
    "@cache\n",
    "def can_obtain(d):\n",
    "    if d == '': return True\n",
    "    for i in range(min(len(d), maxlen) + 1):\n",
    "        if d[:i] in patterns and can_obtain(d[i:]):\n",
    "            return True\n",
    "    return False\n",
    "\n",
    "ans = sum(can_obtain(design) for design in designs)\n",
    "\n",
    "print(f'ANSWER: {copy_and_return(ans)}')"
   ]
  },
  {
   "cell_type": "code",
   "execution_count": 41,
   "metadata": {},
   "outputs": [
    {
     "name": "stdout",
     "output_type": "stream",
     "text": [
      "ANSWER: 1100663950563322\n"
     ]
    }
   ],
   "source": [
    "# PART 2\n",
    "\n",
    "import pyperclip\n",
    "\n",
    "def copy_and_return(x):\n",
    "    pyperclip.copy(x)\n",
    "    return(x)\n",
    "\n",
    "from functools import cache\n",
    "\n",
    "def read_file():\n",
    "    with open('19.txt') as f:\n",
    "        return f.read().splitlines()\n",
    "\n",
    "lines = read_file()\n",
    "patterns = set(lines[0].split(', '))\n",
    "maxlen = max(map(len, patterns))\n",
    "designs = lines[2:]\n",
    "\n",
    "@cache\n",
    "def num_of_possibilities(d):\n",
    "    if d == '': return 1\n",
    "    count = 0\n",
    "    for i in range(min(len(d), maxlen) + 1):\n",
    "        if d[:i] in patterns:\n",
    "            count += num_of_possibilities(d[i:])\n",
    "    return count\n",
    "\n",
    "ans = sum(num_of_possibilities(design) for design in designs)\n",
    "\n",
    "print(f'ANSWER: {copy_and_return(ans)}')"
   ]
  }
 ],
 "metadata": {
  "kernelspec": {
   "display_name": "Python 3",
   "language": "python",
   "name": "python3"
  },
  "language_info": {
   "codemirror_mode": {
    "name": "ipython",
    "version": 3
   },
   "file_extension": ".py",
   "mimetype": "text/x-python",
   "name": "python",
   "nbconvert_exporter": "python",
   "pygments_lexer": "ipython3",
   "version": "3.13.1"
  }
 },
 "nbformat": 4,
 "nbformat_minor": 2
}
