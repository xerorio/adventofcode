{
 "cells": [
  {
   "cell_type": "code",
   "execution_count": 19,
   "metadata": {},
   "outputs": [
    {
     "name": "stdout",
     "output_type": "stream",
     "text": [
      "ANSWER: 224438715\n"
     ]
    }
   ],
   "source": [
    "# PART 1\n",
    "\n",
    "import pyperclip\n",
    "\n",
    "def print_and_copy(x):\n",
    "    pyperclip.copy(x)\n",
    "    return(x)\n",
    "\n",
    "def read_file():\n",
    "    with open('14.txt') as f:\n",
    "        return f.read().splitlines()\n",
    "\n",
    "lines = read_file()\n",
    "\n",
    "positions = []\n",
    "velocities = []\n",
    "\n",
    "for line in lines:\n",
    "    a, b = line.split(' ')\n",
    "    positions.append(list(map(int, a.split('=')[1].split(','))))\n",
    "    velocities.append(list(map(int, b.split('=')[1].split(','))))\n",
    "\n",
    "    # flip the coordinates so its rows and columns instead\n",
    "    positions[-1] = [positions[-1][1], positions[-1][0]]\n",
    "    velocities[-1] = [velocities[-1][1], velocities[-1][0]]\n",
    "\n",
    "n = 103\n",
    "m = 101\n",
    "\n",
    "def move_all_robots_one_step():\n",
    "    global positions, velocities\n",
    "\n",
    "    for i in range(len(positions)):\n",
    "        positions[i][0] = (positions[i][0] + velocities[i][0] + n) % n\n",
    "        positions[i][1] = (positions[i][1] + velocities[i][1] + m) % m\n",
    "\n",
    "for _ in range(100):\n",
    "    move_all_robots_one_step()\n",
    "\n",
    "def count_robots(i0, i1, j0, j1):\n",
    "    count = 0\n",
    "    for i in range(i0, i1):\n",
    "        for j in range(j0, j1):\n",
    "            for ii, jj in positions:\n",
    "                if i == ii and j == jj:\n",
    "                    count += 1\n",
    "    return count\n",
    "\n",
    "\n",
    "q1 = count_robots(0, n//2, 0, m//2)\n",
    "q2 = count_robots(n//2 + 1, n, 0, m//2)\n",
    "q3 = count_robots(0, n//2, m//2 + 1, m)\n",
    "q4 = count_robots(n//2 + 1, n, m//2 + 1, m)\n",
    "\n",
    "ans = q1 * q2 * q3 * q4\n",
    "\n",
    "print(f'ANSWER: {print_and_copy(ans)}')"
   ]
  }
 ],
 "metadata": {
  "kernelspec": {
   "display_name": "Python 3",
   "language": "python",
   "name": "python3"
  },
  "language_info": {
   "codemirror_mode": {
    "name": "ipython",
    "version": 3
   },
   "file_extension": ".py",
   "mimetype": "text/x-python",
   "name": "python",
   "nbconvert_exporter": "python",
   "pygments_lexer": "ipython3",
   "version": "3.13.1"
  }
 },
 "nbformat": 4,
 "nbformat_minor": 2
}
