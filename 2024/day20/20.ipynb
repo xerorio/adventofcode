{
 "cells": [
  {
   "cell_type": "code",
   "execution_count": 3,
   "metadata": {},
   "outputs": [
    {
     "name": "stderr",
     "output_type": "stream",
     "text": [
      "100%|████████████████████████████████████| 9453/9453 [00:00<00:00, 37968.43it/s]"
     ]
    },
    {
     "name": "stdout",
     "output_type": "stream",
     "text": [
      "ANSWER: 1438\n"
     ]
    },
    {
     "name": "stderr",
     "output_type": "stream",
     "text": [
      "\n"
     ]
    }
   ],
   "source": [
    "# PART 1\n",
    "\n",
    "import pyperclip\n",
    "\n",
    "def copy_and_return(x):\n",
    "    pyperclip.copy(x)\n",
    "    return(x)\n",
    "\n",
    "from collections import defaultdict, deque\n",
    "from tqdm import tqdm\n",
    "import copy\n",
    "\n",
    "def read_file():\n",
    "    with open('20.txt') as f:\n",
    "        return [list(line) for line in f.read().strip().split('\\n')]\n",
    "\n",
    "grid = read_file()\n",
    "n = len(grid)\n",
    "\n",
    "def in_grid(x, y):\n",
    "    return 0 <= x < n and 0 <= y < n\n",
    "\n",
    "for i in range(n):\n",
    "    for j in range(n):\n",
    "        if grid[i][j] == 'S':\n",
    "            si, sj = i, j\n",
    "        if grid[i][j] == 'E':\n",
    "            ei, ej = i, j\n",
    "\n",
    "dd = [[1, 0], [0, 1], [-1, 0], [0, -1]]\n",
    "\n",
    "path = [(si, sj)]\n",
    "while path[-1] != (ei, ej):\n",
    "    i, j = path[-1]\n",
    "    for di, dj in dd:\n",
    "        ii, jj = i + di, j + dj\n",
    "        \n",
    "        if not in_grid(ii, jj): # not in the grid\n",
    "            continue\n",
    "        if len(path) > 1 and (ii, jj) == path[-2]: # going backwards\n",
    "            continue\n",
    "        if grid[ii][jj] == '#': # wall\n",
    "            continue\n",
    "        \n",
    "        path.append((ii, jj))\n",
    "        break\n",
    "\n",
    "og = len(path) - 1\n",
    "times = {}\n",
    "for t, coord in enumerate(path):\n",
    "    times[coord] = og - t\n",
    "\n",
    "counts = defaultdict(int)\n",
    "saved = {}\n",
    "for t, coord in enumerate(tqdm(path, ncols=80)):\n",
    "    i, j = coord\n",
    "    for di1, dj1 in dd:\n",
    "        for di2, dj2 in dd:\n",
    "            ii, jj = i + di1 + di2, j + dj1 + dj2\n",
    "            if not in_grid(ii, jj) or grid[ii][jj] == '#':\n",
    "                continue\n",
    "\n",
    "            rem_t = times[(ii, jj)]\n",
    "            saved[(i, j, ii, jj)] = og - (t + rem_t + 2)\n",
    "        \n",
    "ans = 0\n",
    "for v in saved.values():\n",
    "    if v >= 0: counts[v] += 1\n",
    "    if v >= 100: ans += 1\n",
    "\n",
    "print(f'ANSWER: {copy_and_return(ans)}')"
   ]
  },
  {
   "cell_type": "code",
   "execution_count": 4,
   "metadata": {},
   "outputs": [
    {
     "name": "stderr",
     "output_type": "stream",
     "text": [
      "100%|██████████████████████████████████████| 9453/9453 [00:19<00:00, 486.20it/s]\n"
     ]
    },
    {
     "name": "stdout",
     "output_type": "stream",
     "text": [
      "ANSWER: 1026446\n"
     ]
    }
   ],
   "source": [
    "# PART 2\n",
    "\n",
    "import pyperclip\n",
    "\n",
    "def copy_and_return(x):\n",
    "    pyperclip.copy(x)\n",
    "    return(x)\n",
    "\n",
    "from collections import defaultdict, deque\n",
    "from tqdm import tqdm\n",
    "import copy\n",
    "\n",
    "def read_file():\n",
    "    with open('20.txt') as f:\n",
    "        return [list(line) for line in f.read().strip().split('\\n')]\n",
    "\n",
    "grid = read_file()\n",
    "n = len(grid)\n",
    "\n",
    "def in_grid(x, y):\n",
    "    return 0 <= x < n and 0 <= y < n\n",
    "\n",
    "for i in range(n):\n",
    "    for j in range(n):\n",
    "        if grid[i][j] == 'S':\n",
    "            si, sj = i, j\n",
    "        if grid[i][j] == 'E':\n",
    "            ei, ej = i, j\n",
    "\n",
    "dd = [[1, 0], [0, 1], [-1, 0], [0, -1]]\n",
    "\n",
    "path = [(si, sj)]\n",
    "while path[-1] != (ei, ej):\n",
    "    i, j = path[-1]\n",
    "    for di, dj in dd:\n",
    "        ii, jj = i + di, j + dj\n",
    "        \n",
    "        if not in_grid(ii, jj): # not in the grid\n",
    "            continue\n",
    "        if len(path) > 1 and (ii, jj) == path[-2]: # going backwards\n",
    "            continue\n",
    "        if grid[ii][jj] == '#': # wall\n",
    "            continue\n",
    "        \n",
    "        path.append((ii, jj))\n",
    "        break\n",
    "\n",
    "og = len(path) - 1\n",
    "times = {}\n",
    "for t, coord in enumerate(path):\n",
    "    times[coord] = og - t\n",
    "\n",
    "max_len = 20\n",
    "counts = defaultdict(int)\n",
    "saved = {}\n",
    "for t, coord in enumerate(tqdm(path, ncols=80)):\n",
    "    i, j = coord\n",
    "    for ii in range(i - max_len, i + max_len + 1):\n",
    "        for jj in range(j - max_len, j + max_len + 1):\n",
    "            time_used = abs(ii - i) + abs(jj - j)\n",
    "            if not in_grid(ii, jj) or time_used > max_len or grid[ii][jj] == '#':\n",
    "                continue\n",
    "\n",
    "            rem_t = times[(ii, jj)]\n",
    "            saved[(i, j, ii, jj)] = og - (t + rem_t + time_used)\n",
    "        \n",
    "ans = 0\n",
    "for v in saved.values():\n",
    "    if v >= 0: counts[v] += 1\n",
    "    if v >= 100: ans += 1\n",
    "\n",
    "print(f'ANSWER: {copy_and_return(ans)}')"
   ]
  }
 ],
 "metadata": {
  "kernelspec": {
   "display_name": "Python 3",
   "language": "python",
   "name": "python3"
  },
  "language_info": {
   "codemirror_mode": {
    "name": "ipython",
    "version": 3
   },
   "file_extension": ".py",
   "mimetype": "text/x-python",
   "name": "python",
   "nbconvert_exporter": "python",
   "pygments_lexer": "ipython3",
   "version": "3.13.1"
  }
 },
 "nbformat": 4,
 "nbformat_minor": 2
}
