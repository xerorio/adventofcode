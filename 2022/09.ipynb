{
 "cells": [
  {
   "cell_type": "code",
   "execution_count": null,
   "metadata": {},
   "outputs": [
    {
     "name": "stdout",
     "output_type": "stream",
     "text": [
      "[['R', '4'], ['U', '4'], ['L', '3'], ['D', '1'], ['R', '4'], ['D', '1'], ['L', '5'], ['R', '2']]\n",
      "ANSWER: 0\n"
     ]
    }
   ],
   "source": [
    "# PART 1\n",
    "\n",
    "import numpy as np\n",
    "\n",
    "def read_file():\n",
    "    with open('09eg.txt', 'r') as f:\n",
    "        lines = [line.split(' ') for line in f.read().splitlines()]\n",
    "    return lines\n",
    "\n",
    "instructions = read_file()\n",
    "print(instructions)\n",
    "\n",
    "head_location = (0, 0)\n",
    "tail_location = (0, 0)\n",
    "visited_locations = set()\n",
    "\n",
    "# algorithm needs to compute the movements, and make the tail follow the head, then add the tail to visited locations\n",
    "# directions: Right, Up, Left, Down\n",
    "\n",
    "# function to move the rope by one step\n",
    "def move_rope(head, tail, direction):\n",
    "    if direction == 'R':\n",
    "        head = (head[0], head[1] + 1)\n",
    "    elif direction == 'U':\n",
    "        head = (head[0], head[1] - 1)\n",
    "    elif direction == 'L':\n",
    "        head = (head[0] + 1, head[1])\n",
    "    elif direction == 'D':\n",
    "        head = (head[0] - 1, head[1])\n",
    "    \n",
    "    # TODO: if head and tail are diagonal, move tail diagonally in the same direction as head\n",
    "\n",
    "    return head, tail\n",
    "\n",
    "# iterate through instructions\n",
    "for instruction in instructions:\n",
    "    direction = instruction[0]\n",
    "    steps = int(instruction[1])\n",
    "    for i in range(steps):\n",
    "        head_location, tail_location = move_rope(head_location, tail_location, direction)\n",
    "        visited_locations.add(tail_location)\n",
    "\n",
    "print(f'ANSWER: {len(visited_locations)}')"
   ]
  }
 ],
 "metadata": {
  "kernelspec": {
   "display_name": "Python 3",
   "language": "python",
   "name": "python3"
  },
  "language_info": {
   "codemirror_mode": {
    "name": "ipython",
    "version": 3
   },
   "file_extension": ".py",
   "mimetype": "text/x-python",
   "name": "python",
   "nbconvert_exporter": "python",
   "pygments_lexer": "ipython3",
   "version": "3.12.1"
  }
 },
 "nbformat": 4,
 "nbformat_minor": 2
}
