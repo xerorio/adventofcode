{
 "cells": [
  {
   "cell_type": "code",
   "execution_count": null,
   "metadata": {},
   "outputs": [
    {
     "name": "stdout",
     "output_type": "stream",
     "text": [
      "ANSWER: 1676\n"
     ]
    }
   ],
   "source": [
    "# PART 1\n",
    "\n",
    "import numpy as np\n",
    "\n",
    "def read_file():\n",
    "    with open('08.txt', 'r') as f:\n",
    "        lines = [line.strip() for line in f.readlines()]\n",
    "    return lines\n",
    "\n",
    "lines = read_file()\n",
    "trees = [list(map(int, list(line))) for line in lines]\n",
    "\n",
    "n = len(trees)\n",
    "m = len(trees[0])\n",
    "\n",
    "trees = np.array(trees)\n",
    "\n",
    "visible_trees = 0\n",
    "\n",
    "for i in range(n):\n",
    "    for j in range(m):\n",
    "        tree_height = trees[i][j]\n",
    "\n",
    "        if j == 0 or np.amax(trees[i, :j]) < tree_height:\n",
    "            visible_trees += 1\n",
    "        elif j == m - 1 or np.amax(trees[i, (j+1):]) < tree_height:\n",
    "            visible_trees += 1\n",
    "        elif i == 0 or np.amax(trees[:i, j]) < tree_height:\n",
    "            visible_trees += 1\n",
    "        elif i == n - 1 or np.amax(trees[(i+1):, j]) < tree_height:\n",
    "            visible_trees += 1\n",
    "\n",
    "print(f'ANSWER: {visible_trees}')"
   ]
  },
  {
   "cell_type": "code",
   "execution_count": null,
   "metadata": {},
   "outputs": [
    {
     "name": "stdout",
     "output_type": "stream",
     "text": [
      "ANSWER: 313200\n"
     ]
    }
   ],
   "source": [
    "# PART 2\n",
    "\n",
    "import numpy as np\n",
    "\n",
    "def read_file():\n",
    "    with open('08.txt', 'r') as f:\n",
    "        lines = [line.strip() for line in f.readlines()]\n",
    "    return lines\n",
    "\n",
    "lines = read_file()\n",
    "trees = [list(map(int, list(line))) for line in lines]\n",
    "\n",
    "n = len(trees)\n",
    "m = len(trees[0])\n",
    "\n",
    "trees = np.array(trees)\n",
    "\n",
    "possible_directions = [[0, -1], [0, 1], [-1, 0], [1, 0]]\n",
    "\n",
    "max_scenic_score = 0\n",
    "\n",
    "for i in range(n):\n",
    "    for j in range(m):\n",
    "        tree_height = trees[i][j]\n",
    "        scenic_score = 1\n",
    "\n",
    "        # checking each direction\n",
    "        for x, y in possible_directions:\n",
    "            ii, jj = i, j # (ii, jj) represents the next position to check, while maintaining the original tree position (i, j)\n",
    "            \n",
    "            ii += x # moves vertically to the next position\n",
    "            jj += y # moves horizontally to the next position\n",
    "            distance = 0\n",
    "\n",
    "            # this loop will continue until the next position is out of bounds or the tree height is greater than the current tree height\n",
    "            while (0 <= ii < n and 0 <= jj < m) and trees[ii, jj] < tree_height:\n",
    "                ii += x\n",
    "                jj += y\n",
    "                distance += 1\n",
    "\n",
    "                if (0 <= ii < n and 0 <= jj < m) and trees[ii, jj] >= tree_height:\n",
    "                    distance += 1\n",
    "            \n",
    "            scenic_score *= distance\n",
    "\n",
    "        max_scenic_score = max(max_scenic_score, scenic_score)\n",
    "\n",
    "print(f'ANSWER: {max_scenic_score}')"
   ]
  }
 ],
 "metadata": {
  "kernelspec": {
   "display_name": "Python 3",
   "language": "python",
   "name": "python3"
  },
  "language_info": {
   "codemirror_mode": {
    "name": "ipython",
    "version": 3
   },
   "file_extension": ".py",
   "mimetype": "text/x-python",
   "name": "python",
   "nbconvert_exporter": "python",
   "pygments_lexer": "ipython3",
   "version": "3.12.1"
  }
 },
 "nbformat": 4,
 "nbformat_minor": 2
}
