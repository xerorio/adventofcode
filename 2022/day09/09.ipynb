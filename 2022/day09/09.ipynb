{
 "cells": [
  {
   "cell_type": "code",
   "execution_count": 5,
   "metadata": {},
   "outputs": [
    {
     "name": "stdout",
     "output_type": "stream",
     "text": [
      "ANSWER: 6197\n"
     ]
    }
   ],
   "source": [
    "# PART 1\n",
    "\n",
    "def read_file():\n",
    "    with open('09.txt', 'r') as f:\n",
    "        lines = [line.split(' ') for line in f.read().splitlines()]\n",
    "    return lines\n",
    "\n",
    "instructions = read_file()\n",
    "\n",
    "hx, hy = 0, 0\n",
    "tx, ty = 0, 0\n",
    "visited_locations = set()\n",
    "\n",
    "def touching(x1, y1, x2, y2):\n",
    "    return abs(x1 - x2) <= 1 and abs(y1 - y2) <= 1\n",
    "\n",
    "# function to move the rope by one step\n",
    "def move_rope(dx, dy):\n",
    "    global hx, hy, tx, ty\n",
    "\n",
    "    hx += dx\n",
    "    hy += dy\n",
    "\n",
    "    if not touching(hx, hy, tx, ty):\n",
    "        x_change = 0 if hx == tx else (hx - tx) / abs(hx - tx)\n",
    "        y_change = 0 if hy == ty else (hy - ty) / abs(hy - ty)\n",
    "\n",
    "        tx += x_change\n",
    "        ty += y_change\n",
    "\n",
    "dd = {\n",
    "    'R': [1, 0],\n",
    "    'U': [0, 1],\n",
    "    'L': [-1, 0],\n",
    "    'D': [0, -1]\n",
    "}\n",
    "\n",
    "# iterate through instructions\n",
    "for instruction in instructions:\n",
    "    direction = instruction[0]\n",
    "    steps = int(instruction[1])\n",
    "\n",
    "    dx, dy = dd[direction]\n",
    "    \n",
    "    for _ in range(steps):\n",
    "        move_rope(dx, dy)\n",
    "        visited_locations.add((tx, ty))\n",
    "\n",
    "print(f'ANSWER: {len(visited_locations)}')"
   ]
  },
  {
   "cell_type": "code",
   "execution_count": 6,
   "metadata": {},
   "outputs": [
    {
     "name": "stdout",
     "output_type": "stream",
     "text": [
      "ANSWER: 2562\n"
     ]
    }
   ],
   "source": [
    "# PART 2\n",
    "\n",
    "def read_file():\n",
    "    with open('09.txt', 'r') as f:\n",
    "        lines = [line.split(' ') for line in f.read().splitlines()]\n",
    "    return lines\n",
    "\n",
    "instructions = read_file()\n",
    "\n",
    "knots = [[0, 0] for _ in range(10)]\n",
    "\n",
    "def touching(x1, y1, x2, y2):\n",
    "    return abs(x1 - x2) <= 1 and abs(y1 - y2) <= 1\n",
    "\n",
    "# function to move the rope by one step\n",
    "def move_rope(dx, dy):\n",
    "    global knots\n",
    "\n",
    "    knots[0][0] += dx\n",
    "    knots[0][1] += dy\n",
    "\n",
    "    for i in range(1, 10):\n",
    "        hx, hy = knots[i - 1]\n",
    "        tx, ty = knots[i]\n",
    "\n",
    "        if not touching(hx, hy, tx, ty):\n",
    "            x_change = 0 if hx == tx else (hx - tx) / abs(hx - tx)\n",
    "            y_change = 0 if hy == ty else (hy - ty) / abs(hy - ty)\n",
    "\n",
    "            tx += x_change\n",
    "            ty += y_change\n",
    "        \n",
    "        knots[i] = [tx, ty]\n",
    "\n",
    "dd = {\n",
    "    'R': [1, 0],\n",
    "    'U': [0, 1],\n",
    "    'L': [-1, 0],\n",
    "    'D': [0, -1]\n",
    "}\n",
    "\n",
    "tails_visited = set()\n",
    "tails_visited.add(tuple(knots[-1]))\n",
    "\n",
    "# iterate through instructions\n",
    "for instruction in instructions:\n",
    "    direction = instruction[0]\n",
    "    steps = int(instruction[1])\n",
    "\n",
    "    dx, dy = dd[direction]\n",
    "    \n",
    "    for _ in range(steps):\n",
    "        move_rope(dx, dy)\n",
    "        tails_visited.add(tuple(knots[-1]))\n",
    "\n",
    "print(f'ANSWER: {len(tails_visited)}')"
   ]
  }
 ],
 "metadata": {
  "kernelspec": {
   "display_name": "Python 3",
   "language": "python",
   "name": "python3"
  },
  "language_info": {
   "codemirror_mode": {
    "name": "ipython",
    "version": 3
   },
   "file_extension": ".py",
   "mimetype": "text/x-python",
   "name": "python",
   "nbconvert_exporter": "python",
   "pygments_lexer": "ipython3",
   "version": "3.12.1"
  }
 },
 "nbformat": 4,
 "nbformat_minor": 2
}
