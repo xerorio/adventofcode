{
 "cells": [
  {
   "cell_type": "code",
   "execution_count": 11,
   "metadata": {},
   "outputs": [
    {
     "name": "stdout",
     "output_type": "stream",
     "text": [
      "ANSWER: 238\n"
     ]
    }
   ],
   "source": [
    "# PART 1\n",
    "\n",
    "import re\n",
    "\n",
    "def read_file():\n",
    "    with open('05.txt') as f:\n",
    "        return f.read().splitlines()\n",
    "    \n",
    "input_strings = read_file()\n",
    "\n",
    "disallowed_substrings = ['ab', 'cd', 'pq', 'xy']\n",
    "vowels = r'[aeiou]'\n",
    "\n",
    "def is_nice(string):\n",
    "    # can't contain certain substrings\n",
    "    for sub in disallowed_substrings:\n",
    "        if sub in string:\n",
    "            return False\n",
    "    \n",
    "    # at least 3 vowels\n",
    "    vowel_count = len(re.findall(vowels, string))\n",
    "    if vowel_count < 3:\n",
    "        return False\n",
    "\n",
    "    # check for double letters\n",
    "    for i in range(1, len(string)):\n",
    "        if string[i-1] == string[i]:\n",
    "            return True\n",
    "    \n",
    "    return False\n",
    "\n",
    "nice_string_count = 0\n",
    "\n",
    "for s in input_strings:\n",
    "    if is_nice(s):\n",
    "        nice_string_count += 1\n",
    "\n",
    "print(f'ANSWER: {nice_string_count}')"
   ]
  },
  {
   "cell_type": "code",
   "execution_count": 19,
   "metadata": {},
   "outputs": [
    {
     "name": "stdout",
     "output_type": "stream",
     "text": [
      "ANSWER: 69\n"
     ]
    }
   ],
   "source": [
    "# PART 1\n",
    "\n",
    "import re\n",
    "\n",
    "def read_file():\n",
    "    with open('05.txt') as f:\n",
    "        return f.read().splitlines()\n",
    "    \n",
    "input_strings = read_file()\n",
    "\n",
    "def is_nice(string):\n",
    "    # a pair of any two letters that appears twice in the string without overlapping\n",
    "    regex_1 = r'(..).*\\1'\n",
    "    match_1 = re.findall(regex_1, string)\n",
    "\n",
    "    # at least one letter that repeats with exactly one letter between them\n",
    "    regex_2 = r'(.).\\1'\n",
    "    match_2 = re.findall(regex_2, string)\n",
    "\n",
    "    if not match_1 or not match_2:\n",
    "        return False\n",
    "    return True\n",
    "\n",
    "\n",
    "nice_string_count = 0\n",
    "\n",
    "for s in input_strings:\n",
    "    if is_nice(s):\n",
    "        nice_string_count += 1\n",
    "\n",
    "print(f'ANSWER: {nice_string_count}')"
   ]
  }
 ],
 "metadata": {
  "kernelspec": {
   "display_name": "Python 3",
   "language": "python",
   "name": "python3"
  },
  "language_info": {
   "codemirror_mode": {
    "name": "ipython",
    "version": 3
   },
   "file_extension": ".py",
   "mimetype": "text/x-python",
   "name": "python",
   "nbconvert_exporter": "python",
   "pygments_lexer": "ipython3",
   "version": "3.13.0"
  }
 },
 "nbformat": 4,
 "nbformat_minor": 2
}
