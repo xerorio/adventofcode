{
 "cells": [
  {
   "cell_type": "code",
   "execution_count": null,
   "metadata": {},
   "outputs": [
    {
     "name": "stdout",
     "output_type": "stream",
     "text": [
      "ANSWER: 543903\n"
     ]
    }
   ],
   "source": [
    "# PART 1\n",
    "\n",
    "import numpy as np\n",
    "\n",
    "def read_file():\n",
    "    with open('06.txt') as f:\n",
    "        return [line.split(' ') for line in f.read().splitlines()]\n",
    "    \n",
    "def format_instruction(l):\n",
    "    l.remove('through')\n",
    "\n",
    "    if len(l) == 4:\n",
    "        l = l[1:]\n",
    "    \n",
    "    l[1] = tuple(map(int, l[1].split(',')))\n",
    "    l[2] = tuple(map(int, l[2].split(',')))\n",
    "    return l\n",
    "\n",
    "instructions = read_file()\n",
    "instructions = list(map(format_instruction, instructions))\n",
    "\n",
    "lights = np.full((1000, 1000), 0)\n",
    "    \n",
    "for instruction in instructions:\n",
    "    x1, y1 = instruction[1]\n",
    "    x2, y2 = instruction[2]\n",
    "\n",
    "    if instruction[0] == 'on':\n",
    "        lights[x1:x2+1, y1:y2+1] = 1\n",
    "    elif instruction[0] == 'off':\n",
    "        lights[x1:x2+1, y1:y2+1] = 0\n",
    "    else:\n",
    "        lights[x1:x2+1, y1:y2+1] = 1 - lights[x1:x2+1, y1:y2+1]\n",
    "\n",
    "print(f'ANSWER: {lights.sum()}')"
   ]
  },
  {
   "cell_type": "code",
   "execution_count": 5,
   "metadata": {},
   "outputs": [
    {
     "name": "stdout",
     "output_type": "stream",
     "text": [
      "ANSWER: 14687245\n"
     ]
    }
   ],
   "source": [
    "# PART 2\n",
    "\n",
    "import numpy as np\n",
    "\n",
    "def read_file():\n",
    "    with open('06.txt') as f:\n",
    "        return [line.split(' ') for line in f.read().splitlines()]\n",
    "    \n",
    "def format_instruction(l):\n",
    "    l.remove('through')\n",
    "\n",
    "    if len(l) == 4:\n",
    "        l = l[1:]\n",
    "    \n",
    "    l[1] = tuple(map(int, l[1].split(',')))\n",
    "    l[2] = tuple(map(int, l[2].split(',')))\n",
    "    return l\n",
    "\n",
    "instructions = read_file()\n",
    "instructions = list(map(format_instruction, instructions))\n",
    "\n",
    "lights = np.full((1000, 1000), 0)\n",
    "\n",
    "for instruction in instructions:\n",
    "    x1, y1 = instruction[1]\n",
    "    x2, y2 = instruction[2]\n",
    "\n",
    "    if instruction[0] == 'on':\n",
    "        lights[x1:x2+1, y1:y2+1] += 1\n",
    "    elif instruction[0] == 'off':\n",
    "        lights[x1:x2+1, y1:y2+1] -= 1\n",
    "        lights[lights < 0] = 0\n",
    "    else:\n",
    "        lights[x1:x2+1, y1:y2+1] += 2\n",
    "\n",
    "print(f'ANSWER: {lights.sum()}')"
   ]
  }
 ],
 "metadata": {
  "kernelspec": {
   "display_name": "Python 3",
   "language": "python",
   "name": "python3"
  },
  "language_info": {
   "codemirror_mode": {
    "name": "ipython",
    "version": 3
   },
   "file_extension": ".py",
   "mimetype": "text/x-python",
   "name": "python",
   "nbconvert_exporter": "python",
   "pygments_lexer": "ipython3",
   "version": "3.12.1"
  }
 },
 "nbformat": 4,
 "nbformat_minor": 2
}
