{
 "cells": [
  {
   "cell_type": "code",
   "execution_count": null,
   "metadata": {},
   "outputs": [
    {
     "name": "stdout",
     "output_type": "stream",
     "text": [
      "ANSWER: 0\n"
     ]
    }
   ],
   "source": [
    "# PART 1\n",
    "\n",
    "from collections import defaultdict\n",
    "\n",
    "def read_file():\n",
    "    with open('07.txt') as f:\n",
    "        return [line.split(' -> ') for line in f.read().splitlines()]\n",
    "\n",
    "instructions = read_file()\n",
    "# print(instructions)\n",
    "\n",
    "signals = defaultdict(int)\n",
    "\n",
    "for instruction in instructions:\n",
    "    wire = instruction[1]\n",
    "\n",
    "    if 'NOT' in instruction[0]:\n",
    "        signals[wire] = 65536 + ~signals[instruction[0].split(' ')[1]]\n",
    "    elif 'AND' in instruction[0]:\n",
    "        signals[wire] = signals[instruction[0].split(' ')[0]] & signals[instruction[0].split(' ')[2]]\n",
    "    elif 'OR' in instruction[0]:\n",
    "        signals[wire] = signals[instruction[0].split(' ')[0]] | signals[instruction[0].split(' ')[2]]\n",
    "    elif 'LSHIFT' in instruction[0]:\n",
    "        signals[wire] = signals[instruction[0].split(' ')[0]] << int(instruction[0].split(' ')[2])\n",
    "    elif 'RSHIFT' in instruction[0]:\n",
    "        signals[wire] = signals[instruction[0].split(' ')[0]] >> int(instruction[0].split(' ')[2])\n",
    "    else:\n",
    "        signals[wire] = int(instruction[0]) if instruction[0].isdigit() else signals[instruction[0]]\n",
    "\n",
    "signals = dict(sorted(signals.items()))\n",
    "print(signals)\n",
    "\n",
    "# print(f'ANSWER: {signals['a']}')"
   ]
  },
  {
   "cell_type": "code",
   "execution_count": null,
   "metadata": {},
   "outputs": [],
   "source": [
    "# PART 2\n",
    "\n",
    "def read_file():\n",
    "    with open('07.txt') as f:\n",
    "        return f.read().splitlines()"
   ]
  }
 ],
 "metadata": {
  "kernelspec": {
   "display_name": "Python 3",
   "language": "python",
   "name": "python3"
  },
  "language_info": {
   "codemirror_mode": {
    "name": "ipython",
    "version": 3
   },
   "file_extension": ".py",
   "mimetype": "text/x-python",
   "name": "python",
   "nbconvert_exporter": "python",
   "pygments_lexer": "ipython3",
   "version": "3.12.1"
  }
 },
 "nbformat": 4,
 "nbformat_minor": 2
}
